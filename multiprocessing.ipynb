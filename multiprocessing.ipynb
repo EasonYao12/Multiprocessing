{
 "cells": [
  {
   "cell_type": "markdown",
   "metadata": {},
   "source": [
    "## Multiprocessing 多核運算 多進程"
   ]
  },
  {
   "cell_type": "code",
   "execution_count": 1,
   "metadata": {},
   "outputs": [],
   "source": [
    "import multiprocessing as mp"
   ]
  },
  {
   "cell_type": "code",
   "execution_count": 2,
   "metadata": {},
   "outputs": [
    {
     "name": "stdout",
     "output_type": "stream",
     "text": [
      "2041592\n",
      " res1 : 1020796\n",
      " res2 : 1020796\n"
     ]
    }
   ],
   "source": [
    "def job(q):\n",
    "    res = 0\n",
    "    for i in range(1000):\n",
    "        res += i + i^2 + i^3\n",
    "    #不能有return 只用queue\n",
    "    q.put(res)\n",
    "    \n",
    "if __name__ == '__main__':\n",
    "    q = mp.Queue() #必須先定義出q\n",
    "    p1 = mp.Process(target = job, args=(q,))\n",
    "    p2 = mp.Process(target = job, args=(q,)) #要加逗號，表示arg可以疊代\n",
    "    p1.start()\n",
    "    p2.start()\n",
    "    p1.join()\n",
    "    p2.join()\n",
    "    \n",
    "    res1 = q.get()\n",
    "    res2 = q.get()\n",
    "    print(res1+res2)\n",
    "    print(f' res1 : {res1}')\n",
    "    print(f' res2 : {res2}')\n",
    "    "
   ]
  },
  {
   "cell_type": "markdown",
   "metadata": {},
   "source": [
    "## Multiprocessing多進程 v.s. Threading 多線程"
   ]
  },
  {
   "cell_type": "code",
   "execution_count": 3,
   "metadata": {},
   "outputs": [],
   "source": [
    "import multiprocessing as mp\n",
    "\n",
    "def job(q):\n",
    "    res = 0\n",
    "    for i in range(1000000):\n",
    "        res += i + i^2 + i^3\n",
    "    #不能有return 只用queue\n",
    "    q.put(res)\n",
    "    \n",
    "# 創建多進程 multiprocessing \n",
    "\n",
    "def multicore():\n",
    "    q = mp.Queue() #必須先定義出q\n",
    "    p1 = mp.Process(target = job, args=(q,))\n",
    "    p2 = mp.Process(target = job, args=(q,)) #要加逗號，表示arg可以疊代\n",
    "    p1.start()\n",
    "    p2.start()\n",
    "    p1.join()\n",
    "    p2.join()\n",
    "    \n",
    "    res1 = q.get()\n",
    "    res2 = q.get()\n",
    "    print(f'multicore: \\n {res1+res2}')\n",
    "\n",
    "import threading as td\n",
    "\n",
    "# 創建多線程 multithread\n",
    "\n",
    "def multithread():\n",
    "    q = mp.Queue() #thread 可放入process 同樣的queue中\n",
    "    t1 = td.Thread(target = job, args = (q,))\n",
    "    t2 = td.Thread(target = job, args = (q,))\n",
    "    t1.start()\n",
    "    t2.start()\n",
    "    t1.join()\n",
    "    t2.join()\n",
    "    res1 = q.get()\n",
    "    res2 = q.get()\n",
    "    print( f'multithread :\\n {res1 + res2 }' )\n",
    "    \n",
    "#創建普通函數\n",
    "\n",
    "def normal():\n",
    "    res = 0\n",
    "    for _ in range(2):\n",
    "        for i in range(1000000):\n",
    "            res += i + i^2 +i^2\n",
    "    print(f'normal : \\n {res}')"
   ]
  },
  {
   "cell_type": "code",
   "execution_count": 4,
   "metadata": {},
   "outputs": [
    {
     "name": "stdout",
     "output_type": "stream",
     "text": [
      "normal : \n",
      " 2091374269632\n",
      " normal time: \n",
      " 0.36136412620544434\n",
      "multithread :\n",
      " 2091374269632\n",
      " mutithread time :\n",
      " 0.34044504165649414\n",
      "multicore: \n",
      " 2091374269632\n",
      " multicore time : \n",
      " 0.19664883613586426\n"
     ]
    }
   ],
   "source": [
    "# 計算運算時間\n",
    "\n",
    "import time\n",
    "if __name__ == '__main__':\n",
    "    st  = time.time()\n",
    "    normal()\n",
    "    st1 = time.time()\n",
    "    print( ' normal time: \\n', st1 - st )\n",
    "    \n",
    "    multithread()\n",
    "    st2 = time.time()\n",
    "    print( ' mutithread time :\\n', st2 - st1)\n",
    "    \n",
    "    multicore()\n",
    "    st3 = time.time()\n",
    "    print( ' multicore time : \\n', st3 - st2)"
   ]
  },
  {
   "cell_type": "markdown",
   "metadata": {},
   "source": [
    "### 運行時間 多線程 < 普通 < 多線程"
   ]
  },
  {
   "cell_type": "code",
   "execution_count": null,
   "metadata": {},
   "outputs": [],
   "source": []
  }
 ],
 "metadata": {
  "kernelspec": {
   "display_name": "Python 3",
   "language": "python",
   "name": "python3"
  },
  "language_info": {
   "codemirror_mode": {
    "name": "ipython",
    "version": 3
   },
   "file_extension": ".py",
   "mimetype": "text/x-python",
   "name": "python",
   "nbconvert_exporter": "python",
   "pygments_lexer": "ipython3",
   "version": "3.7.1"
  }
 },
 "nbformat": 4,
 "nbformat_minor": 2
}
