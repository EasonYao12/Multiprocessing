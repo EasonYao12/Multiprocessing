{
 "cells": [
  {
   "cell_type": "markdown",
   "metadata": {},
   "source": [
    "# 進程池Pool \n",
    "\n",
    "將我們要運行的東西都放到池子裡，Python會自行解決多進程的問題"
   ]
  },
  {
   "cell_type": "code",
   "execution_count": 1,
   "metadata": {},
   "outputs": [
    {
     "name": "stdout",
     "output_type": "stream",
     "text": [
      "map : [0, 1, 4, 9, 16, 25, 36, 49, 64, 81]\n",
      "4\n",
      "apply_async: [0, 1, 4, 9, 16, 25, 36, 49, 64, 81]\n"
     ]
    }
   ],
   "source": [
    "import multiprocessing as mp\n",
    "\n",
    "def job(x):\n",
    "    return x*x\n",
    "\n",
    "def multicore():\n",
    "    pool = mp.Pool(processes = 4)  #定義CPU使用3個\n",
    "    res = pool.map(job, range(10))\n",
    "    print('map :', res)\n",
    "    \n",
    "    #apply_async() 中只能傳一個值，若要很多值則得用迭代\n",
    "    res = pool.apply_async(job, (2,))\n",
    "    print(res.get())\n",
    "    \n",
    "    multi_res = [ pool.apply_async(job,  (i,)) for i in range(10)]\n",
    "    print('apply_async:', [res.get() for res in multi_res])\n",
    "    \n",
    "if __name__ == '__main__':\n",
    "    multicore()"
   ]
  },
  {
   "cell_type": "markdown",
   "metadata": {},
   "source": [
    "#### 總結\n",
    "1. Pool 默認是設定CPU的核數，可以藉由Processes參數來調整\n",
    "2. map() 放數迭代參數，返回多個值\n",
    "3. apply_async() 只能放入一組參數，並返回一個值，可以透過迭代得到跟map()一樣的結果"
   ]
  }
 ],
 "metadata": {
  "kernelspec": {
   "display_name": "Python 3",
   "language": "python",
   "name": "python3"
  },
  "language_info": {
   "codemirror_mode": {
    "name": "ipython",
    "version": 3
   },
   "file_extension": ".py",
   "mimetype": "text/x-python",
   "name": "python",
   "nbconvert_exporter": "python",
   "pygments_lexer": "ipython3",
   "version": "3.7.1"
  }
 },
 "nbformat": 4,
 "nbformat_minor": 2
}
